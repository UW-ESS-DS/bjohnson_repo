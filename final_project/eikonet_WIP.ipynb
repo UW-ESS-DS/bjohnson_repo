{
 "cells": [
  {
   "cell_type": "code",
   "execution_count": 1,
   "id": "2114f775",
   "metadata": {},
   "outputs": [],
   "source": [
    "from EikoNet import model as md\n",
    "from EikoNet import database as db\n",
    "from EikoNet import plot as pt \n",
    "import torch\n",
    "from os import path\n",
    "import matplotlib.pylab as plt\n",
    "# from google_drive_downloader import GoogleDriveDownloader as gdd\n",
    "import numpy as np\n",
    "# from celluloid import Camera\n",
    "# from IPython.display import Image\n",
    "# from IPython.display import HTML\n",
    "from base64 import b64encode"
   ]
  },
  {
   "cell_type": "code",
   "execution_count": 2,
   "id": "57668ad2",
   "metadata": {},
   "outputs": [],
   "source": [
    "path2vm =\"/Users/banjo/Projects/nll_pnsn/velocityModels/1dModels/p4EikoNet.velmod\"\n",
    "output = \"/Users/banjo/uw/classes/bjohnson_repo/final_project/eNet_Model_Out\""
   ]
  },
  {
   "cell_type": "code",
   "execution_count": 24,
   "id": "05c6332e",
   "metadata": {},
   "outputs": [],
   "source": [
    "xmin = [-124,46,0]\n",
    "xmax = [-122,48,40]\n",
    "projection = \"+proj=utm +zone=10, +ellps=WGS84 +datum=WGS84 +units=km +no_defs\"\n",
    "p4 = db.Graded1DVelocity(path2vm,xmin=xmin,xmax=xmax,projection=projection)"
   ]
  },
  {
   "cell_type": "code",
   "execution_count": 25,
   "id": "4378c98a",
   "metadata": {},
   "outputs": [],
   "source": [
    "# Graded1DVelocity(file,xmin=None,xmax=None,projection=None,sep=0.1,polydeg=50):\n",
    "# p4 = db.Graded1DVelocity(path2vm,xmin=xmin,xmax=xmax,projection=projection)"
   ]
  },
  {
   "cell_type": "code",
   "execution_count": 27,
   "id": "bc0caeee",
   "metadata": {},
   "outputs": [],
   "source": [
    "p4.plot('vp_plot.png')"
   ]
  },
  {
   "cell_type": "code",
   "execution_count": 28,
   "id": "5900e40c",
   "metadata": {},
   "outputs": [
    {
     "name": "stdout",
     "output_type": "stream",
     "text": [
      "(5000, 6) (5000, 2)\n"
     ]
    }
   ],
   "source": [
    "# Database(PATH,VelocityFunction,create=False,Numsamples=5000,randomDist=False,SurfaceRecievers=False):\n",
    "\n",
    "vpP4 = db.Database(output,p4,create=True)"
   ]
  },
  {
   "cell_type": "code",
   "execution_count": 29,
   "id": "62265d10",
   "metadata": {},
   "outputs": [],
   "source": [
    "model_VP = md.Model(output+'/Xp.npy',p4) #,device='cuda:0')\n",
    "\n",
    "# mod = md.Model(output+'/Xp.npy')"
   ]
  },
  {
   "cell_type": "code",
   "execution_count": 31,
   "id": "d94e7bc8",
   "metadata": {},
   "outputs": [],
   "source": [
    "# model_VP.train()"
   ]
  },
  {
   "cell_type": "code",
   "execution_count": null,
   "id": "df5d03c6",
   "metadata": {},
   "outputs": [],
   "source": []
  }
 ],
 "metadata": {
  "kernelspec": {
   "display_name": "Python 3",
   "language": "python",
   "name": "python3"
  },
  "language_info": {
   "codemirror_mode": {
    "name": "ipython",
    "version": 3
   },
   "file_extension": ".py",
   "mimetype": "text/x-python",
   "name": "python",
   "nbconvert_exporter": "python",
   "pygments_lexer": "ipython3",
   "version": "3.9.2"
  }
 },
 "nbformat": 4,
 "nbformat_minor": 5
}
