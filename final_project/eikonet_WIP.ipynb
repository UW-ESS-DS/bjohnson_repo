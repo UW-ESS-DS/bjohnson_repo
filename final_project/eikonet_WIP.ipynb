{
 "cells": [
  {
   "cell_type": "code",
   "execution_count": 1,
   "id": "2114f775",
   "metadata": {},
   "outputs": [],
   "source": [
    "from EikoNet import model as md\n",
    "from EikoNet import database as db\n",
    "from EikoNet import plot as pt \n",
    "import torch\n",
    "from os import path\n",
    "import matplotlib.pylab as plt\n",
    "# from google_drive_downloader import GoogleDriveDownloader as gdd\n",
    "import numpy as np\n",
    "# from celluloid import Camera\n",
    "# from IPython.display import Image\n",
    "# from IPython.display import HTML\n",
    "from base64 import b64encode\n",
    "import pandas as pd"
   ]
  },
  {
   "cell_type": "code",
   "execution_count": 2,
   "id": "57668ad2",
   "metadata": {},
   "outputs": [],
   "source": [
    "path2vm =\"/Users/banjo/Projects/nll_pnsn/velocityModels/1dModels/p4EikoNet.vz\"\n",
    "path2cvm =\"/Users/banjo/uw/classes/bjohnson_repo/final_project/util/brem_EikoNet_P.csv\"\n",
    "output = \"/Users/banjo/uw/classes/bjohnson_repo/final_project/eNet_Model_Out\""
   ]
  },
  {
   "cell_type": "code",
   "execution_count": 12,
   "id": "70edfe63",
   "metadata": {},
   "outputs": [
    {
     "data": {
      "text/html": [
       "<div>\n",
       "<style scoped>\n",
       "    .dataframe tbody tr th:only-of-type {\n",
       "        vertical-align: middle;\n",
       "    }\n",
       "\n",
       "    .dataframe tbody tr th {\n",
       "        vertical-align: top;\n",
       "    }\n",
       "\n",
       "    .dataframe thead th {\n",
       "        text-align: right;\n",
       "    }\n",
       "</style>\n",
       "<table border=\"1\" class=\"dataframe\">\n",
       "  <thead>\n",
       "    <tr style=\"text-align: right;\">\n",
       "      <th></th>\n",
       "      <th>lat</th>\n",
       "      <th>lon</th>\n",
       "      <th>z</th>\n",
       "      <th>vp</th>\n",
       "    </tr>\n",
       "  </thead>\n",
       "  <tbody>\n",
       "    <tr>\n",
       "      <th>0</th>\n",
       "      <td>-122.779744</td>\n",
       "      <td>47.462629</td>\n",
       "      <td>0.0</td>\n",
       "      <td>1519.516724</td>\n",
       "    </tr>\n",
       "    <tr>\n",
       "      <th>1</th>\n",
       "      <td>-122.779744</td>\n",
       "      <td>47.462629</td>\n",
       "      <td>500.0</td>\n",
       "      <td>3608.969604</td>\n",
       "    </tr>\n",
       "    <tr>\n",
       "      <th>2</th>\n",
       "      <td>-122.779744</td>\n",
       "      <td>47.462629</td>\n",
       "      <td>1000.0</td>\n",
       "      <td>4364.327637</td>\n",
       "    </tr>\n",
       "    <tr>\n",
       "      <th>3</th>\n",
       "      <td>-122.779744</td>\n",
       "      <td>47.462629</td>\n",
       "      <td>1500.0</td>\n",
       "      <td>4657.830566</td>\n",
       "    </tr>\n",
       "    <tr>\n",
       "      <th>4</th>\n",
       "      <td>-122.779744</td>\n",
       "      <td>47.462629</td>\n",
       "      <td>2000.0</td>\n",
       "      <td>4680.796549</td>\n",
       "    </tr>\n",
       "    <tr>\n",
       "      <th>...</th>\n",
       "      <td>...</td>\n",
       "      <td>...</td>\n",
       "      <td>...</td>\n",
       "      <td>...</td>\n",
       "    </tr>\n",
       "    <tr>\n",
       "      <th>929504</th>\n",
       "      <td>-122.295711</td>\n",
       "      <td>47.937557</td>\n",
       "      <td>57000.0</td>\n",
       "      <td>7731.995099</td>\n",
       "    </tr>\n",
       "    <tr>\n",
       "      <th>929505</th>\n",
       "      <td>-122.295711</td>\n",
       "      <td>47.937557</td>\n",
       "      <td>57500.0</td>\n",
       "      <td>7741.370340</td>\n",
       "    </tr>\n",
       "    <tr>\n",
       "      <th>929506</th>\n",
       "      <td>-122.295711</td>\n",
       "      <td>47.937557</td>\n",
       "      <td>58000.0</td>\n",
       "      <td>7774.389703</td>\n",
       "    </tr>\n",
       "    <tr>\n",
       "      <th>929507</th>\n",
       "      <td>-122.295711</td>\n",
       "      <td>47.937557</td>\n",
       "      <td>58500.0</td>\n",
       "      <td>7813.320095</td>\n",
       "    </tr>\n",
       "    <tr>\n",
       "      <th>929508</th>\n",
       "      <td>-122.295711</td>\n",
       "      <td>47.937557</td>\n",
       "      <td>59000.0</td>\n",
       "      <td>8093.101936</td>\n",
       "    </tr>\n",
       "  </tbody>\n",
       "</table>\n",
       "<p>929509 rows × 4 columns</p>\n",
       "</div>"
      ],
      "text/plain": [
       "               lat        lon        z           vp\n",
       "0      -122.779744  47.462629      0.0  1519.516724\n",
       "1      -122.779744  47.462629    500.0  3608.969604\n",
       "2      -122.779744  47.462629   1000.0  4364.327637\n",
       "3      -122.779744  47.462629   1500.0  4657.830566\n",
       "4      -122.779744  47.462629   2000.0  4680.796549\n",
       "...            ...        ...      ...          ...\n",
       "929504 -122.295711  47.937557  57000.0  7731.995099\n",
       "929505 -122.295711  47.937557  57500.0  7741.370340\n",
       "929506 -122.295711  47.937557  58000.0  7774.389703\n",
       "929507 -122.295711  47.937557  58500.0  7813.320095\n",
       "929508 -122.295711  47.937557  59000.0  8093.101936\n",
       "\n",
       "[929509 rows x 4 columns]"
      ]
     },
     "execution_count": 12,
     "metadata": {},
     "output_type": "execute_result"
    }
   ],
   "source": [
    "df = pd.read_csv(path2cvm)\n",
    "df\n",
    "# np.max(df['lat'].values)\n",
    "# np.min(df['lat'].values)"
   ]
  },
  {
   "cell_type": "code",
   "execution_count": null,
   "id": "fcb67f69",
   "metadata": {},
   "outputs": [],
   "source": [
    "# xmin = [-122.78,47.459,0]\n",
    "# xmax = [-122.08,47.775,60]\n",
    "# projection = \"+proj=utm +zone=10, +ellps=WGS84 +datum=WGS84 +units=km +no_defs\"\n",
    "# p4 = db.Graded1DVelocity(path2vm,xmin=xmin,xmax=xmax,projection=projection)\n",
    "# # p4.plot('/content/drive/MyDrive/ds_data/VP.png')\n",
    "# # model=md.Model(output,p4,device = 'cuda:0')\n",
    "# model=md.Model(output,p4)"
   ]
  },
  {
   "cell_type": "code",
   "execution_count": 6,
   "id": "05c6332e",
   "metadata": {},
   "outputs": [],
   "source": [
    "Xmin = [-122.77974,47.4607,0]\n",
    "Xmax = [-122.29571,47.9395,59]\n",
    "projection = \"+proj=utm +zone=10, +ellps=WGS84 +datum=WGS84 +units=km +no_defs\"\n",
    "# p4 = db.Graded1DVelocity(path2vm,xmin=xmin,xmax=xmax,projection=projection)\n",
    "# p4 = db.SCEC_CVMH(path2cvm,xmin=xmin,xmax=xmax,projection=projection)"
   ]
  },
  {
   "cell_type": "code",
   "execution_count": 7,
   "id": "fdf75b79",
   "metadata": {},
   "outputs": [
    {
     "ename": "TypeError",
     "evalue": "__init__() got multiple values for argument 'xmin'",
     "output_type": "error",
     "traceback": [
      "\u001b[0;31m---------------------------------------------------------------------------\u001b[0m",
      "\u001b[0;31mTypeError\u001b[0m                                 Traceback (most recent call last)",
      "\u001b[0;32m<ipython-input-7-511d9744de05>\u001b[0m in \u001b[0;36m<module>\u001b[0;34m\u001b[0m\n\u001b[0;32m----> 1\u001b[0;31m \u001b[0mp4\u001b[0m \u001b[0;34m=\u001b[0m \u001b[0mdb\u001b[0m\u001b[0;34m.\u001b[0m\u001b[0mSCEC_CVMH\u001b[0m\u001b[0;34m(\u001b[0m\u001b[0mpath2cvm\u001b[0m\u001b[0;34m,\u001b[0m\u001b[0mxmin\u001b[0m\u001b[0;34m=\u001b[0m\u001b[0mXmin\u001b[0m\u001b[0;34m,\u001b[0m\u001b[0mxmax\u001b[0m\u001b[0;34m=\u001b[0m\u001b[0mXmax\u001b[0m\u001b[0;34m,\u001b[0m\u001b[0mprojection\u001b[0m\u001b[0;34m=\u001b[0m\u001b[0mprojection\u001b[0m\u001b[0;34m)\u001b[0m\u001b[0;34m\u001b[0m\u001b[0;34m\u001b[0m\u001b[0m\n\u001b[0m",
      "\u001b[0;31mTypeError\u001b[0m: __init__() got multiple values for argument 'xmin'"
     ]
    }
   ],
   "source": [
    "p4 = db.SCEC_CVMH(path2cvm,xmin=Xmin,xmax=Xmax,projection=projection)"
   ]
  },
  {
   "cell_type": "code",
   "execution_count": 8,
   "id": "93ac2940",
   "metadata": {},
   "outputs": [],
   "source": [
    "def SCEC_CVMH(self,xmin=None,xmax=None,projection=None,phase='VP',cvm_host=None):\n",
    "    xmin         = xmin\n",
    "    xmax         = xmax\n",
    "    projection   = projection\n",
    "\n",
    "#         FileTemp = os.getcwd()\n",
    "\n",
    "#         cvm_host = cvm_host\n",
    "#         if type(cvm_host) == type(None):\n",
    "#           print('Please specify a path to the CVM-H Fortran code')\n",
    "\n",
    "    phase    = phase"
   ]
  },
  {
   "cell_type": "code",
   "execution_count": 10,
   "id": "3930c9a5",
   "metadata": {},
   "outputs": [],
   "source": [
    "j = SCEC_CVMH(path2cvm,xmin=Xmin,xmax=Xmax,projection=projection)"
   ]
  },
  {
   "cell_type": "code",
   "execution_count": 11,
   "id": "2bb115b3",
   "metadata": {},
   "outputs": [],
   "source": [
    "j"
   ]
  },
  {
   "cell_type": "code",
   "execution_count": null,
   "id": "7cd3698b",
   "metadata": {},
   "outputs": [],
   "source": []
  },
  {
   "cell_type": "code",
   "execution_count": null,
   "id": "4378c98a",
   "metadata": {},
   "outputs": [],
   "source": [
    "# Graded1DVelocity(file,xmin=None,xmax=None,projection=None,sep=0.1,polydeg=50):\n",
    "# p4 = db.Graded1DVelocity(path2vm,xmin=xmin,xmax=xmax,projection=projection)"
   ]
  },
  {
   "cell_type": "code",
   "execution_count": null,
   "id": "f986f265",
   "metadata": {},
   "outputs": [],
   "source": []
  },
  {
   "cell_type": "code",
   "execution_count": null,
   "id": "bc0caeee",
   "metadata": {},
   "outputs": [],
   "source": [
    "# p4.plot('vp_plot.png')"
   ]
  },
  {
   "cell_type": "code",
   "execution_count": null,
   "id": "5900e40c",
   "metadata": {},
   "outputs": [],
   "source": [
    "# Database(PATH,VelocityFunction,create=False,Numsamples=5000,randomDist=False,SurfaceRecievers=False):\n",
    "\n",
    "vpP4 = db.Database(output,p4,create=True)"
   ]
  },
  {
   "cell_type": "code",
   "execution_count": null,
   "id": "62265d10",
   "metadata": {},
   "outputs": [],
   "source": [
    "model_VP = md.Model(output,p4,device='cpu')\n",
    "\n",
    "# mod = md.Model(output+'/Xp.npy')"
   ]
  },
  {
   "cell_type": "code",
   "execution_count": null,
   "id": "0f42b98e",
   "metadata": {},
   "outputs": [],
   "source": [
    "model_VP.Params['Training']['Number of Epochs'] = 50"
   ]
  },
  {
   "cell_type": "code",
   "execution_count": null,
   "id": "d94e7bc8",
   "metadata": {},
   "outputs": [],
   "source": [
    "model_VP.train(n_)"
   ]
  },
  {
   "cell_type": "code",
   "execution_count": null,
   "id": "df5d03c6",
   "metadata": {},
   "outputs": [],
   "source": [
    "# torch.cuda.device_count()"
   ]
  },
  {
   "cell_type": "code",
   "execution_count": null,
   "id": "226c0378",
   "metadata": {},
   "outputs": [],
   "source": [
    "torch.cuda.get_device_capability(device='cpu')"
   ]
  },
  {
   "cell_type": "code",
   "execution_count": null,
   "id": "476b07f2",
   "metadata": {},
   "outputs": [],
   "source": []
  }
 ],
 "metadata": {
  "kernelspec": {
   "display_name": "Python 3",
   "language": "python",
   "name": "python3"
  },
  "language_info": {
   "codemirror_mode": {
    "name": "ipython",
    "version": 3
   },
   "file_extension": ".py",
   "mimetype": "text/x-python",
   "name": "python",
   "nbconvert_exporter": "python",
   "pygments_lexer": "ipython3",
   "version": "3.9.2"
  }
 },
 "nbformat": 4,
 "nbformat_minor": 5
}
