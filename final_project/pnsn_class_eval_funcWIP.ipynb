{
 "cells": [
  {
   "cell_type": "code",
   "execution_count": 1,
   "id": "6776d96f",
   "metadata": {},
   "outputs": [],
   "source": [
    "## Normal Python Libraries\n",
    "\n",
    "import matplotlib\n",
    "matplotlib.use('Agg')\n",
    "import matplotlib.pylab as plt\n",
    "from scipy import signal\n",
    "import numpy as np\n",
    "from scipy import interpolate\n",
    "import pandas as pd\n",
    "from pyproj import Proj\n",
    "import copy\n",
    "import os\n",
    "from os import path\n",
    "from base64 import b64encode\n",
    "\n",
    "## Import EikoNet Libraries\n",
    "\n",
    "from EikoNet import model as md\n",
    "from EikoNet import database as db\n",
    "from EikoNet import plot as pt \n",
    "\n",
    "## Import pytorch Libraries\n",
    "\n",
    "import torch\n",
    "from torch.nn import Linear\n",
    "from torch import Tensor\n",
    "from torch.nn import MSELoss\n",
    "from torch.optim import SGD, Adam, RMSprop\n",
    "from torch.autograd import Variable, grad\n",
    "from torch.utils.data.sampler import SubsetRandomSampler,WeightedRandomSampler"
   ]
  },
  {
   "cell_type": "code",
   "execution_count": 2,
   "id": "45c0f7aa",
   "metadata": {},
   "outputs": [],
   "source": [
    "def _randPoints(numsamples=10000,randomDist=False,Xmin=[0,0,0],Xmax=[2,2,2]):\n",
    "    numsamples = int(numsamples)\n",
    "    Xmin = np.append(Xmin,Xmin)\n",
    "    Xmax = np.append(Xmax,Xmax)\n",
    "    if randomDist:\n",
    "        X  = np.zeros((numsamples,6))\n",
    "        PointsOutside = np.arange(numsamples)\n",
    "        while len(PointsOutside) > 0:\n",
    "            P  = np.random.rand(len(PointsOutside),3)*(Xmax[:3]-Xmin[:3])[None,None,:] + Xmin[:3][None,None,:]\n",
    "            dP = np.random.rand(len(PointsOutside),3)-0.5\n",
    "            rL = (np.random.rand(len(PointsOutside),1))*np.sqrt(np.sum((Xmax-Xmin)**2))\n",
    "            nP = P + (dP/np.sqrt(np.sum(dP**2,axis=1))[:,np.newaxis])*rL\n",
    "\n",
    "            X[PointsOutside,:3] = P\n",
    "            X[PointsOutside,3:] = nP\n",
    "\n",
    "            maxs          = np.any((X[:,3:] > Xmax[:3][None,:]),axis=1)\n",
    "            mins          = np.any((X[:,3:] < Xmin[:3][None,:]),axis=1)\n",
    "            OutOfDomain   = np.any(np.concatenate((maxs[:,None],mins[:,None]),axis=1),axis=1)\n",
    "            PointsOutside = np.where(OutOfDomain)[0]\n",
    "    else:\n",
    "        X  = (np.random.rand(numsamples,6)*(Xmax-Xmin)[None,None,:] + Xmin[None,None,:])[0,:,:]\n",
    "    return X"
   ]
  },
  {
   "cell_type": "code",
   "execution_count": 3,
   "id": "9de18ca2",
   "metadata": {},
   "outputs": [],
   "source": [
    "xmin = [-122.77,47.46,0]\n",
    "xmax = [-122.29,47.93,50]\n",
    "projection = \"+proj=utm +zone=10, +ellps=WGS84 +datum=WGS84 +units=m +no_defs\"\n",
    "Xp = _randPoints(numsamples=10000,randomDist=True,Xmin=xmin,Xmax=xmax)"
   ]
  },
  {
   "cell_type": "code",
   "execution_count": 6,
   "id": "b9ed87db",
   "metadata": {},
   "outputs": [
    {
     "data": {
      "text/plain": [
       "array([0., 0.])"
      ]
     },
     "execution_count": 6,
     "metadata": {},
     "output_type": "execute_result"
    }
   ],
   "source": [
    "Xp.shape\n",
    "Yp = np.zeros((Xp.shape[0],2))\n",
    "Yp[0]"
   ]
  },
  {
   "cell_type": "code",
   "execution_count": null,
   "id": "4871ac1e",
   "metadata": {},
   "outputs": [],
   "source": [
    "#### Read in the cvm. \n",
    "df = pd.read_csv(\"/Users/banjo/uw/classes/bjohnson_repo/final_project/util/brem_cvm_eikonet_.csv\")\n",
    "df['z'] = df['z']/1000"
   ]
  },
  {
   "cell_type": "code",
   "execution_count": null,
   "id": "bba75c8e",
   "metadata": {},
   "outputs": [],
   "source": [
    "# df['z'] = df['z']/1000"
   ]
  },
  {
   "cell_type": "code",
   "execution_count": null,
   "id": "c6c04e60",
   "metadata": {},
   "outputs": [],
   "source": [
    "def eval(Xp):\n",
    "    df = pd.read_csv(\"/Users/banjo/uw/classes/bjohnson_repo/final_project/util/brem_cvm_eikonet_.csv\")\n",
    "    df['z'] = df['z']/1000\n",
    "    velocity = []\n",
    "    Yp = np.zeros((Xp.shape[0],2))\n",
    "    for i in range(len(Xp)): \n",
    "        t = Xp[i]\n",
    "        x_dep = t[5]\n",
    "        sub = df.iloc[(df['z']-x_dep).abs().argsort()[:2]]\n",
    "        sub_z = np.unique(sub['z'].values)\n",
    "        \n",
    "        zdf = df.loc[(df['z'].values) == sub_z]\n",
    "        proj = Proj(projection)\n",
    "        t1 = proj(t[3],t[4])\n",
    "        print(\"t1\",t1)\n",
    "        x_utme = t1[0]\n",
    "        x_utmn = t1[1]\n",
    "        \n",
    "\n",
    "        sub = df.loc[(df['utmn']-x_utmn).abs().argsort()[:2]]\n",
    "        sub_n = np.unique(sub['utmn'].values)\n",
    "\n",
    "        sub = df.loc[(df['utme']-x_utme).abs().argsort()[:2]]\n",
    "        sub_e = np.unique(sub['utme'].values)\n",
    "\n",
    "        row = zdf.loc[(zdf['utme'].values==sub_e) & (zdf['utmn'].values== sub_n)]\n",
    "        print(row)\n",
    "#     vp = row['vp'].values[0]\n",
    "#     velocity.append(vp)\n",
    "# Yp[:,1] = velocity"
   ]
  },
  {
   "cell_type": "code",
   "execution_count": null,
   "id": "0ddfd853",
   "metadata": {},
   "outputs": [],
   "source": [
    "eval(Xp)"
   ]
  },
  {
   "cell_type": "code",
   "execution_count": null,
   "id": "b89c6fd7",
   "metadata": {},
   "outputs": [],
   "source": [
    "# row = zdf.loc[((zdf['utme'].values) == sub_e) & ((zdf['utmn'].values)== sub_n)]\n",
    "# vp = row['vp'].values\n",
    "# vp = row['vp'].values[0]\n",
    "# vp\n",
    "# Yp\n",
    "# t = x[1]\n",
    "# t[5]\n",
    "# input = t[2]\n",
    "# sub = df.iloc[(df['z']-input).abs().argsort()[:2]]\n",
    "# sub_z = np.unique(sub['z'].values)\n",
    "# zdf = df.iloc[(df['z'].values) == sub_z]"
   ]
  },
  {
   "cell_type": "code",
   "execution_count": null,
   "id": "06c2fb81",
   "metadata": {},
   "outputs": [],
   "source": [
    "proj = Proj(projection)\n",
    "t1 = proj(t[0],t[1])\n",
    "# print(t1)\n",
    "x_utme = t1[0]\n",
    "x_utmn = t1[1]\n",
    "\n",
    "sub = df.iloc[(df['utmn']-x_utmn).abs().argsort()[:2]]\n",
    "sub_n = np.unique(sub['utmn'].values)\n",
    "# sub_n\n",
    "sub = df.iloc[(df['utme']-x_utme).abs().argsort()[:2]]\n",
    "sub_e = np.unique(sub['utme'].values)\n",
    "# sub_e"
   ]
  },
  {
   "cell_type": "code",
   "execution_count": null,
   "id": "dafadd7c",
   "metadata": {},
   "outputs": [],
   "source": [
    "row = zdf.loc[((zdf['utme'].values) == sub_e) & ((zdf['utmn'].values)== sub_n)]\n",
    "Y = row['vp'].values"
   ]
  },
  {
   "cell_type": "code",
   "execution_count": null,
   "id": "4e349c7c",
   "metadata": {},
   "outputs": [],
   "source": [
    "t"
   ]
  },
  {
   "cell_type": "code",
   "execution_count": null,
   "id": "4e6cae37",
   "metadata": {},
   "outputs": [],
   "source": [
    "t = x[1]\n",
    "input = t[1]\n",
    "sub = df.iloc[(df['lon']-input).abs().argsort()[:2]]\n",
    "sub_lon = np.unique(sub['lon'].values)"
   ]
  },
  {
   "cell_type": "code",
   "execution_count": null,
   "id": "3c89b76a",
   "metadata": {},
   "outputs": [],
   "source": [
    "w = x[1]\n",
    "input = w[0]\n",
    "sub = df.iloc[(df['lat']-input).abs().argsort()[:2]]\n",
    "sub_lat = np.unique(sub['lat'].values)\n",
    "t = x[1]\n",
    "input = t[1]\n",
    "sub = df.iloc[(df['lon']-input).abs().argsort()[:2]]\n",
    "sub_lon = np.unique(sub['lon'].values)\n",
    "q = x[1]\n",
    "input = q[2]\n",
    "sub = df.iloc[(df['z']-input).abs().argsort()[:2]]\n",
    "sub_dep = np.unique(sub['z'].values)\n",
    "# point = list(zip(sub_lat,sub_lon,sub_dep))\n",
    "# row = df.iloc[((df['z'].values) == sub_dep)]\n",
    "# rows = row.iloc[((row['lon'].values) == sub_lon)]\n",
    "# rowz = rows.iloc[((rows['lat'].values) == sub_lat)]\n",
    "# print(rows)\n",
    "    \n",
    "\n",
    "    \n",
    "    # #                    & (df['z'].values == sub_dep)]\n",
    "# df.loc[(df[‘Color’] == ‘Green’) & (df[‘Shape’] == ‘Rectangle’)]"
   ]
  },
  {
   "cell_type": "code",
   "execution_count": null,
   "id": "767fa43d",
   "metadata": {},
   "outputs": [],
   "source": [
    "row"
   ]
  },
  {
   "cell_type": "code",
   "execution_count": null,
   "id": "c0bf2bc4",
   "metadata": {},
   "outputs": [],
   "source": [
    "sub_lon"
   ]
  },
  {
   "cell_type": "code",
   "execution_count": null,
   "id": "1ba6cac7",
   "metadata": {},
   "outputs": [],
   "source": [
    "point"
   ]
  },
  {
   "cell_type": "code",
   "execution_count": null,
   "id": "65817df1",
   "metadata": {},
   "outputs": [],
   "source": [
    "df.loc[(df['lat'].index == sub_lat) & (df['lon'].index == sub_lon) & (df['z'].index == sub_dep)]"
   ]
  },
  {
   "cell_type": "code",
   "execution_count": null,
   "id": "92a39e94",
   "metadata": {},
   "outputs": [],
   "source": [
    "q = x[1]\n",
    "input = q[2]\n",
    "df.iloc[(df['z']-input).abs().argsort()[:2]]"
   ]
  },
  {
   "cell_type": "code",
   "execution_count": null,
   "id": "867f8344",
   "metadata": {},
   "outputs": [],
   "source": [
    "point"
   ]
  },
  {
   "cell_type": "code",
   "execution_count": null,
   "id": "69ffbc75",
   "metadata": {},
   "outputs": [],
   "source": []
  },
  {
   "cell_type": "code",
   "execution_count": null,
   "id": "d59f0498",
   "metadata": {},
   "outputs": [],
   "source": [
    "point = x[1]\n",
    "# point[0]\n",
    "X = point[0]\n",
    "Y = point[1]\n",
    "Z=point[2]\n"
   ]
  },
  {
   "cell_type": "code",
   "execution_count": null,
   "id": "2fdbda6d",
   "metadata": {},
   "outputs": [],
   "source": [
    "a = df.to_numpy()\n",
    "a_list = a[1][0:3]\n",
    "given_value = x[1][0:3]\n",
    "# a_list = (df['lat','lon','z']).to_numpy\n",
    "absolute_difference_function = lambda list_value : abs(list_value - given_value)\n",
    "\n",
    "closest_value = min(a_list, key=absolute_difference_function)\n",
    "print(closest_value)\n"
   ]
  },
  {
   "cell_type": "code",
   "execution_count": null,
   "id": "88f63064",
   "metadata": {},
   "outputs": [],
   "source": [
    "a_list = a[1][0:3]\n",
    "a_list"
   ]
  },
  {
   "cell_type": "code",
   "execution_count": null,
   "id": "6e34b949",
   "metadata": {},
   "outputs": [],
   "source": [
    "x"
   ]
  },
  {
   "cell_type": "code",
   "execution_count": null,
   "id": "52f405c0",
   "metadata": {},
   "outputs": [],
   "source": []
  }
 ],
 "metadata": {
  "kernelspec": {
   "display_name": "Python 3",
   "language": "python",
   "name": "python3"
  },
  "language_info": {
   "codemirror_mode": {
    "name": "ipython",
    "version": 3
   },
   "file_extension": ".py",
   "mimetype": "text/x-python",
   "name": "python",
   "nbconvert_exporter": "python",
   "pygments_lexer": "ipython3",
   "version": "3.9.2"
  }
 },
 "nbformat": 4,
 "nbformat_minor": 5
}
