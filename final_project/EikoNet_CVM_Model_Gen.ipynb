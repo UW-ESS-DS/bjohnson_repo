{
 "cells": [
  {
   "cell_type": "code",
   "execution_count": 1,
   "id": "ff2fa3d4",
   "metadata": {},
   "outputs": [],
   "source": [
    "## Normal Python Libraries\n",
    "\n",
    "import matplotlib\n",
    "matplotlib.use('Agg')\n",
    "import matplotlib.pylab as plt\n",
    "from scipy import signal\n",
    "import numpy as np\n",
    "from scipy import interpolate\n",
    "import pandas as pd\n",
    "from pyproj import Proj\n",
    "import copy\n",
    "import os\n",
    "from os import path\n",
    "from base64 import b64encode\n",
    "\n",
    "## Import EikoNet Libraries\n",
    "\n",
    "from EikoNet import model as md\n",
    "from EikoNet import database as db\n",
    "from EikoNet import plot as pt \n",
    "\n",
    "## Import pytorch Libraries\n",
    "\n",
    "import torch\n",
    "from torch.nn import Linear\n",
    "from torch import Tensor\n",
    "from torch.nn import MSELoss\n",
    "from torch.optim import SGD, Adam, RMSprop\n",
    "from torch.autograd import Variable, grad\n",
    "from torch.utils.data.sampler import SubsetRandomSampler,WeightedRandomSampler"
   ]
  },
  {
   "cell_type": "code",
   "execution_count": null,
   "id": "7c6ee608",
   "metadata": {},
   "outputs": [],
   "source": [
    "# Read in the cvm. \n",
    "# df = pd.read_csv(\"/Users/banjo/uw/classes/bjohnson_repo/final_project/util/brem_cvm.csv\")"
   ]
  },
  {
   "cell_type": "code",
   "execution_count": null,
   "id": "fe14e9a3",
   "metadata": {},
   "outputs": [],
   "source": [
    "xmin = [-122.77,47.46,0]\n",
    "xmax = [-122.29,47.93,50]\n",
    "projection = \"+proj=utm +zone=10, +ellps=WGS84 +datum=WGS84 +units=m +no_defs\"\n",
    "ipath = \"/Users/banjo/uw/classes/bjohnson_repo/final_project/util\"\n",
    "opath = \"/Users/banjo/uw/classes/bjohnson_repo/final_project/cvm_testing\"\n",
    "file = \"brem_cvm_eikonet_.csv\"\n",
    "pnsn = db.PNSN_CVM(xmin=xmin,xmax=xmax,projection=projection,phase='VP',path=ipath,file=file)\n",
    "# cvm = db.Database(opath,pnsn,create=True,randomDist=True)"
   ]
  },
  {
   "cell_type": "code",
   "execution_count": null,
   "id": "7830798b",
   "metadata": {},
   "outputs": [],
   "source": [
    "cvm = db.Database(opath,pnsn,create=True,randomDist=True)\n",
    "# output = \"/Users/banjo/uw/classes/bjohnson_repo/final_project/cvm_testing\"\n",
    "# model_VP = md.Model(output,pnsn,device='cpu')"
   ]
  },
  {
   "cell_type": "code",
   "execution_count": null,
   "id": "16a73fa6",
   "metadata": {},
   "outputs": [],
   "source": [
    "# model_VP.Params['Training']['Number of sample points']   = 1e4\n",
    "# model_VP.Params['Training']['Batch Size']                = 64\n",
    "# # model_VP.Params['ModelPath'] = output\n",
    "\n",
    "# model_VP.train()"
   ]
  },
  {
   "cell_type": "code",
   "execution_count": null,
   "id": "1f706c86",
   "metadata": {},
   "outputs": [],
   "source": [
    "jing = jang"
   ]
  },
  {
   "cell_type": "code",
   "execution_count": 2,
   "id": "c896c20a",
   "metadata": {},
   "outputs": [
    {
     "ename": "NameError",
     "evalue": "name '_randPoints' is not defined",
     "output_type": "error",
     "traceback": [
      "\u001b[0;31m---------------------------------------------------------------------------\u001b[0m",
      "\u001b[0;31mNameError\u001b[0m                                 Traceback (most recent call last)",
      "\u001b[0;32m<ipython-input-2-99a789d21d52>\u001b[0m in \u001b[0;36m<module>\u001b[0;34m\u001b[0m\n\u001b[0;32m----> 1\u001b[0;31m \u001b[0mXp\u001b[0m \u001b[0;34m=\u001b[0m \u001b[0m_randPoints\u001b[0m\u001b[0;34m(\u001b[0m\u001b[0mnumsamples\u001b[0m\u001b[0;34m=\u001b[0m\u001b[0;36m10000\u001b[0m\u001b[0;34m,\u001b[0m\u001b[0mrandomDist\u001b[0m\u001b[0;34m=\u001b[0m\u001b[0;32mTrue\u001b[0m\u001b[0;34m,\u001b[0m\u001b[0mXmin\u001b[0m\u001b[0;34m=\u001b[0m\u001b[0mxmin\u001b[0m\u001b[0;34m,\u001b[0m\u001b[0mXmax\u001b[0m\u001b[0;34m=\u001b[0m\u001b[0mxmax\u001b[0m\u001b[0;34m)\u001b[0m\u001b[0;34m\u001b[0m\u001b[0;34m\u001b[0m\u001b[0m\n\u001b[0m\u001b[1;32m      2\u001b[0m \u001b[0mXp\u001b[0m\u001b[0;34m.\u001b[0m\u001b[0mshape\u001b[0m\u001b[0;34m\u001b[0m\u001b[0;34m\u001b[0m\u001b[0m\n\u001b[1;32m      3\u001b[0m \u001b[0;31m# Yp = np.zeros((Xp.shape[0],2))\u001b[0m\u001b[0;34m\u001b[0m\u001b[0;34m\u001b[0m\u001b[0;34m\u001b[0m\u001b[0m\n",
      "\u001b[0;31mNameError\u001b[0m: name '_randPoints' is not defined"
     ]
    }
   ],
   "source": [
    "Xp = _randPoints(numsamples=10000,randomDist=True,Xmin=xmin,Xmax=xmax)\n",
    "Xp.shape\n",
    "# Yp = np.zeros((Xp.shape[0],2))"
   ]
  },
  {
   "cell_type": "markdown",
   "id": "fd916fda",
   "metadata": {},
   "source": [
    "Xp is your grid points and Yp is the velocity at the grid points. \n",
    "The way they have it set up is :\n",
    "    they define the grid points,\n",
    "    send the grid points to a program\n",
    "    then calculate the velocity at those grid points. \n",
    "    \n",
    "What is the issue with us:\n",
    "    We have the grid points extablished:\n",
    "        --> We do not need to define grid points and calulate the velocity at those grid points.\n",
    "    Xp IS based on a Random Generation of points. \n",
    "    --> Does this mean we need to rewrite the Database code to not require a random generation, Xp?\n",
    "    "
   ]
  },
  {
   "cell_type": "code",
   "execution_count": null,
   "id": "0169c069",
   "metadata": {},
   "outputs": [],
   "source": []
  },
  {
   "cell_type": "code",
   "execution_count": null,
   "id": "700739cb",
   "metadata": {},
   "outputs": [],
   "source": [
    "# Generating the Random source Points for to accompany the velocity model with all receiver data. \n",
    "\n",
    "# xmin = [-122.77974,47.4607,0]\n",
    "# xmax = [-122.29571,47.9395,50]\n",
    "# Xp = _randPoints(numsamples=10000,randomDist=True,Xmin=xmin,Xmax=xmax)\n",
    "# rX = []\n",
    "# rY = []\n",
    "# rZ = []\n",
    "# for i in range(len(Xp)):\n",
    "#     x = Xp[i]\n",
    "#     rx = x[0]\n",
    "#     ry = x[1]\n",
    "#     rz = x[2]*1000\n",
    "#     rX.append(rx)\n",
    "#     rY.append(ry)\n",
    "#     rZ.append(rz)\n",
    "# def make_dataset(file=None,numsamples=10000,xmin=None,xmax=None,path=None)\n",
    "# df = pd.read_csv(file)\n",
    "# df_samp = df.sample(n=numsamples)\n",
    "# Xp = _randPoints(numsamples=numsamples,randomDist=True,Xmin=xmin,Xmax=xmax)\n",
    "# rX = []\n",
    "# rY = []\n",
    "# rZ = []\n",
    "# for i in range(len(Xp)):\n",
    "#     x = Xp[i]\n",
    "#     rx = x[0]\n",
    "#     ry = x[1]\n",
    "#     rz = x[2]*1000\n",
    "#     rX.append(rx)\n",
    "#     rY.append(ry)\n",
    "#     rZ.append(rz)\n",
    "# df_samp['rlat'] = rX\n",
    "# df_samp['rlon'] = rY\n",
    "# df_samp['rz'] = rZ\n",
    "# dfXp = df_samp[['rlat','rlon','rz','lat','lon','z']]\n",
    "# Xp = dfXp.to_numpy()\n",
    "# dfYp = df_samp['vp']\n",
    "# Yp = dfYp.to_numpy()\n",
    "# np.save(path+'Xp.npy',Xp)\n",
    "# np.save(path+'Yp.npy',Yp)"
   ]
  },
  {
   "cell_type": "code",
   "execution_count": null,
   "id": "ddba7d59",
   "metadata": {},
   "outputs": [],
   "source": [
    "#### Making the Xp and Yp arrays -- I think this will be called when I run database. \n",
    "# df_samp['rlat'] = rX\n",
    "# df_samp['rlon'] = rY\n",
    "# df_samp['rz'] = rZ\n",
    "# dfXp = df_samp[['rlat','rlon','rz','lat','lon','z']]\n",
    "# Xp = dfXp.to_numpy()\n",
    "# dfYp = df_samp['vp']\n",
    "# Yp = dfYp.to_numpy()\n",
    "# np.save('/Users/banjo/uw/classes/bjohnson_repo/final_project/cvm_testing/Xp.npy',Xp)\n",
    "# np.save('/Users/banjo/uw/classes/bjohnson_repo/final_project/cvm_testing/Yp.npy',Yp)"
   ]
  }
 ],
 "metadata": {
  "kernelspec": {
   "display_name": "Python 3",
   "language": "python",
   "name": "python3"
  },
  "language_info": {
   "codemirror_mode": {
    "name": "ipython",
    "version": 3
   },
   "file_extension": ".py",
   "mimetype": "text/x-python",
   "name": "python",
   "nbconvert_exporter": "python",
   "pygments_lexer": "ipython3",
   "version": "3.9.2"
  }
 },
 "nbformat": 4,
 "nbformat_minor": 5
}
